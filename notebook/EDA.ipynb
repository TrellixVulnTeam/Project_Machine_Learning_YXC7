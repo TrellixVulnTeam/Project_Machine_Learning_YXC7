{
 "cells": [
  {
   "cell_type": "code",
   "execution_count": 2,
   "metadata": {},
   "outputs": [],
   "source": [
    "import os\n",
    "\n",
    "os.chdir(os.pardir)"
   ]
  },
  {
   "cell_type": "code",
   "execution_count": 3,
   "metadata": {},
   "outputs": [],
   "source": [
    "from housing.pipeline.pipeline import Pipeline"
   ]
  },
  {
   "cell_type": "code",
   "execution_count": 19,
   "metadata": {},
   "outputs": [],
   "source": [
    "p=Pipeline"
   ]
  },
  {
   "cell_type": "code",
   "execution_count": 20,
   "metadata": {},
   "outputs": [
    {
     "data": {
      "text/plain": [
       "housing.pipeline.pipeline.Pipeline"
      ]
     },
     "execution_count": 20,
     "metadata": {},
     "output_type": "execute_result"
    }
   ],
   "source": [
    "p\n"
   ]
  },
  {
   "cell_type": "code",
   "execution_count": 22,
   "metadata": {},
   "outputs": [
    {
     "data": {
      "text/plain": [
       "<function threading.Thread.start(self)>"
      ]
     },
     "execution_count": 22,
     "metadata": {},
     "output_type": "execute_result"
    }
   ],
   "source": [
    "p.start"
   ]
  },
  {
   "cell_type": "code",
   "execution_count": 23,
   "metadata": {},
   "outputs": [],
   "source": [
    "f=\"D:\\RRG\\VP\\INeuron\\House_Price_Prediction\\Project_Machine_Learning\\config\\model.yaml\""
   ]
  },
  {
   "cell_type": "code",
   "execution_count": 9,
   "metadata": {},
   "outputs": [],
   "source": [
    "from housing.util.util import read_yaml_file"
   ]
  },
  {
   "cell_type": "code",
   "execution_count": 10,
   "metadata": {},
   "outputs": [],
   "source": [
    "import json"
   ]
  },
  {
   "cell_type": "code",
   "execution_count": 11,
   "metadata": {},
   "outputs": [],
   "source": [
    "json.dump(read_yaml_file(f),open(\"sample.json\",\"w\"),indent=4)"
   ]
  },
  {
   "cell_type": "code",
   "execution_count": 12,
   "metadata": {},
   "outputs": [],
   "source": [
    "data=\"\"\"{\n",
    "    \"grid_search\": {\n",
    "        \"class\": \"GridSearchCV\",\n",
    "        \"module\": \"sklearn.model_selection\",\n",
    "        \"params\": {\n",
    "            \"cv\": 4,\n",
    "            \"verbose\": 2\n",
    "        }\n",
    "    },\n",
    "    \"model_selection\": {\n",
    "        \"module_0\": {\n",
    "            \"class\": \"LinearRegression\",\n",
    "            \"module\": \"sklearn.linear_model\",\n",
    "            \"params\": {\n",
    "                \"fit_intercept\": true\n",
    "            },\n",
    "            \"search_param_grid\": {\n",
    "                \"fit_intercept\": [\n",
    "                    true\n",
    "                ]\n",
    "            }\n",
    "        },\n",
    "        \"module_1\": {\n",
    "            \"class\": \"RandomForestRegressor\",\n",
    "            \"module\": \"sklearn.ensemble\",\n",
    "            \"params\": {\n",
    "                \"min_samples_leaf\": 2\n",
    "            },\n",
    "            \"search_param_grid\": {\n",
    "                \"min_samples_leaf\": [\n",
    "                    2\n",
    "                ],\n",
    "                \"n_estimators\": [\n",
    "                    10\n",
    "                ]\n",
    "            }\n",
    "        }\n",
    "    }\n",
    "}\"\"\""
   ]
  },
  {
   "cell_type": "code",
   "execution_count": 13,
   "metadata": {},
   "outputs": [],
   "source": [
    "import json"
   ]
  },
  {
   "cell_type": "code",
   "execution_count": 26,
   "metadata": {},
   "outputs": [
    {
     "data": {
      "text/plain": [
       "<function json.loads(s, *, encoding=None, cls=None, object_hook=None, parse_float=None, parse_int=None, parse_constant=None, object_pairs_hook=None, **kw)>"
      ]
     },
     "execution_count": 26,
     "metadata": {},
     "output_type": "execute_result"
    }
   ],
   "source": [
    "json.loads"
   ]
  },
  {
   "cell_type": "code",
   "execution_count": 15,
   "metadata": {},
   "outputs": [],
   "source": [
    "data=\"\"\"{'grid_search': {'class': 'GridSearchCV',\n",
    "  'module': 'sklearn.model_selection',\n",
    "  'params': {'cv': 4, 'verbose': 2}},\n",
    " 'model_selection': {'module_0': {'class': 'LinearRegression',\n",
    "   'module': 'sklearn.linear_model',\n",
    "   'params': {'fit_intercept': True},\n",
    "   'search_param_grid': {'fit_intercept': [True]}},\n",
    "  'module_1': {'class': 'RandomForestRegressor',\n",
    "   'module': 'sklearn.ensemble',\n",
    "   'params': {'min_samples_leaf': 2},\n",
    "   'search_param_grid': {'min_samples_leaf': [2], 'n_estimators': [10]}}}}\"\"\""
   ]
  },
  {
   "cell_type": "code",
   "execution_count": 16,
   "metadata": {},
   "outputs": [],
   "source": [
    "a=data.replace(\"'\",'\"').replace(\"\\n\",\"\")"
   ]
  },
  {
   "cell_type": "code",
   "execution_count": 17,
   "metadata": {},
   "outputs": [
    {
     "data": {
      "text/plain": [
       "1"
      ]
     },
     "execution_count": 17,
     "metadata": {},
     "output_type": "execute_result"
    }
   ],
   "source": [
    "len(data[245])"
   ]
  },
  {
   "cell_type": "code",
   "execution_count": null,
   "metadata": {},
   "outputs": [],
   "source": []
  }
 ],
 "metadata": {
  "kernelspec": {
   "display_name": "Python 3.7.0 (conda)",
   "language": "python",
   "name": "python3"
  },
  "language_info": {
   "codemirror_mode": {
    "name": "ipython",
    "version": 3
   },
   "file_extension": ".py",
   "mimetype": "text/x-python",
   "name": "python",
   "nbconvert_exporter": "python",
   "pygments_lexer": "ipython3",
   "version": "3.7.0"
  },
  "orig_nbformat": 4,
  "vscode": {
   "interpreter": {
    "hash": "f2c224fe409c5e2a8168ac6a33f5fe932a06b86f2875f280431e7d87bca1aa06"
   }
  }
 },
 "nbformat": 4,
 "nbformat_minor": 2
}
